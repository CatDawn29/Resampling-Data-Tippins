{
 "cells": [
  {
   "cell_type": "code",
   "execution_count": 1,
   "id": "7f1fffaa",
   "metadata": {},
   "outputs": [],
   "source": [
    "import pandas as pd\n",
    "import matplotlib.pyplot as plt\n",
    "import matplotlib.dates as mdates\n",
    "import matplotlib.ticker as mticks\n",
    "import datetime as dt\n",
    "import missingno as miss\n",
    "\n",
    "import seaborn as sns\n",
    "import numpy as np\n",
    "pd.set_option('display.float_format',lambda x:f\"{x:,.2f}\")"
   ]
  },
  {
   "cell_type": "code",
   "execution_count": 2,
   "id": "5f6dc0b1",
   "metadata": {},
   "outputs": [],
   "source": [
    "sns.set_context('notebook', font_scale=0.9)\n",
    "plt.style.use(['ggplot'])"
   ]
  },
  {
   "cell_type": "code",
   "execution_count": 4,
   "id": "dfb8617a",
   "metadata": {},
   "outputs": [],
   "source": [
    "default =\"%Y-%m-%d %H:%M:%S.%f\"\n",
    "fmt = \"%m/%d/%Y %I:%M:%S %p\""
   ]
  },
  {
   "cell_type": "code",
   "execution_count": 5,
   "id": "dac44585",
   "metadata": {},
   "outputs": [],
   "source": [
    "weather_df = pd.read_csv ('london_weather_MODIFIED - london_weather_MODIFIED.csv')"
   ]
  },
  {
   "cell_type": "code",
   "execution_count": 6,
   "id": "a20a3ed1",
   "metadata": {},
   "outputs": [
    {
     "data": {
      "text/html": [
       "<div>\n",
       "<style scoped>\n",
       "    .dataframe tbody tr th:only-of-type {\n",
       "        vertical-align: middle;\n",
       "    }\n",
       "\n",
       "    .dataframe tbody tr th {\n",
       "        vertical-align: top;\n",
       "    }\n",
       "\n",
       "    .dataframe thead th {\n",
       "        text-align: right;\n",
       "    }\n",
       "</style>\n",
       "<table border=\"1\" class=\"dataframe\">\n",
       "  <thead>\n",
       "    <tr style=\"text-align: right;\">\n",
       "      <th></th>\n",
       "      <th>date</th>\n",
       "      <th>cloud_cover</th>\n",
       "      <th>sunshine</th>\n",
       "      <th>global_radiation</th>\n",
       "      <th>max_temp</th>\n",
       "      <th>mean_temp</th>\n",
       "      <th>min_temp</th>\n",
       "      <th>precipitation</th>\n",
       "      <th>pressure</th>\n",
       "      <th>snow_depth</th>\n",
       "    </tr>\n",
       "  </thead>\n",
       "  <tbody>\n",
       "    <tr>\n",
       "      <th>0</th>\n",
       "      <td>19790101</td>\n",
       "      <td>2.00</td>\n",
       "      <td>7.00</td>\n",
       "      <td>52.00</td>\n",
       "      <td>2.30</td>\n",
       "      <td>-4.10</td>\n",
       "      <td>-7.50</td>\n",
       "      <td>0.40</td>\n",
       "      <td>101,900.00</td>\n",
       "      <td>9.00</td>\n",
       "    </tr>\n",
       "    <tr>\n",
       "      <th>1</th>\n",
       "      <td>19790102</td>\n",
       "      <td>6.00</td>\n",
       "      <td>1.70</td>\n",
       "      <td>27.00</td>\n",
       "      <td>1.60</td>\n",
       "      <td>-2.60</td>\n",
       "      <td>-7.50</td>\n",
       "      <td>0.00</td>\n",
       "      <td>102,530.00</td>\n",
       "      <td>8.00</td>\n",
       "    </tr>\n",
       "    <tr>\n",
       "      <th>2</th>\n",
       "      <td>19790103</td>\n",
       "      <td>5.00</td>\n",
       "      <td>0.00</td>\n",
       "      <td>13.00</td>\n",
       "      <td>1.30</td>\n",
       "      <td>-2.80</td>\n",
       "      <td>-7.20</td>\n",
       "      <td>0.00</td>\n",
       "      <td>102,050.00</td>\n",
       "      <td>4.00</td>\n",
       "    </tr>\n",
       "    <tr>\n",
       "      <th>3</th>\n",
       "      <td>19790104</td>\n",
       "      <td>8.00</td>\n",
       "      <td>0.00</td>\n",
       "      <td>13.00</td>\n",
       "      <td>-0.30</td>\n",
       "      <td>-2.60</td>\n",
       "      <td>-6.50</td>\n",
       "      <td>0.00</td>\n",
       "      <td>100,840.00</td>\n",
       "      <td>2.00</td>\n",
       "    </tr>\n",
       "    <tr>\n",
       "      <th>4</th>\n",
       "      <td>19790105</td>\n",
       "      <td>6.00</td>\n",
       "      <td>2.00</td>\n",
       "      <td>29.00</td>\n",
       "      <td>5.60</td>\n",
       "      <td>-0.80</td>\n",
       "      <td>-1.40</td>\n",
       "      <td>0.00</td>\n",
       "      <td>102,250.00</td>\n",
       "      <td>1.00</td>\n",
       "    </tr>\n",
       "  </tbody>\n",
       "</table>\n",
       "</div>"
      ],
      "text/plain": [
       "       date  cloud_cover  sunshine  global_radiation  max_temp  mean_temp  \\\n",
       "0  19790101         2.00      7.00             52.00      2.30      -4.10   \n",
       "1  19790102         6.00      1.70             27.00      1.60      -2.60   \n",
       "2  19790103         5.00      0.00             13.00      1.30      -2.80   \n",
       "3  19790104         8.00      0.00             13.00     -0.30      -2.60   \n",
       "4  19790105         6.00      2.00             29.00      5.60      -0.80   \n",
       "\n",
       "   min_temp  precipitation   pressure  snow_depth  \n",
       "0     -7.50           0.40 101,900.00        9.00  \n",
       "1     -7.50           0.00 102,530.00        8.00  \n",
       "2     -7.20           0.00 102,050.00        4.00  \n",
       "3     -6.50           0.00 100,840.00        2.00  \n",
       "4     -1.40           0.00 102,250.00        1.00  "
      ]
     },
     "execution_count": 6,
     "metadata": {},
     "output_type": "execute_result"
    }
   ],
   "source": [
    "weather_df.head()"
   ]
  },
  {
   "cell_type": "code",
   "execution_count": 7,
   "id": "626221c2",
   "metadata": {},
   "outputs": [
    {
     "name": "stdout",
     "output_type": "stream",
     "text": [
      "<class 'pandas.core.frame.DataFrame'>\n",
      "RangeIndex: 15341 entries, 0 to 15340\n",
      "Data columns (total 10 columns):\n",
      " #   Column            Non-Null Count  Dtype  \n",
      "---  ------            --------------  -----  \n",
      " 0   date              15341 non-null  int64  \n",
      " 1   cloud_cover       14938 non-null  float64\n",
      " 2   sunshine          14957 non-null  float64\n",
      " 3   global_radiation  14939 non-null  float64\n",
      " 4   max_temp          14951 non-null  float64\n",
      " 5   mean_temp         14922 non-null  float64\n",
      " 6   min_temp          14955 non-null  float64\n",
      " 7   precipitation     14951 non-null  float64\n",
      " 8   pressure          14953 non-null  float64\n",
      " 9   snow_depth        13589 non-null  float64\n",
      "dtypes: float64(9), int64(1)\n",
      "memory usage: 1.2 MB\n"
     ]
    }
   ],
   "source": [
    "weather_df.info()"
   ]
  },
  {
   "cell_type": "markdown",
   "id": "16ca5150",
   "metadata": {},
   "source": [
    "# Convert into a single column"
   ]
  },
  {
   "cell_type": "code",
   "execution_count": null,
   "id": "fee297f8",
   "metadata": {},
   "outputs": [],
   "source": [
    "%%time\n",
    "\n",
    "## Need to figure out about this\n",
    "sp500_min_df['datetime'] = sp500_min_df['Date'] + ' ' + sp500_min_df['Time']\n",
    "sp500_min_df.head()\n",
    "\n",
    "\n",
    "sp500_min_df = sp500_min_df.drop(columns=['Date','Time'])\n",
    "sp500_min_df.head()"
   ]
  },
  {
   "cell_type": "markdown",
   "id": "4bc66abd",
   "metadata": {},
   "source": [
    "# Converting Date Column into a datetime dtype"
   ]
  },
  {
   "cell_type": "code",
   "execution_count": null,
   "id": "7a1cbf4c",
   "metadata": {},
   "outputs": [],
   "source": [
    "%%time\n",
    "## Make a datetime index using pd.to_datetime\n",
    "weather_df['temp_datetime'] = pd.to_datetime(weather_df['date'])\n",
    "weather_df"
   ]
  },
  {
   "cell_type": "code",
   "execution_count": null,
   "id": "a3faade8",
   "metadata": {},
   "outputs": [],
   "source": [
    "weather_df.info()"
   ]
  },
  {
   "cell_type": "code",
   "execution_count": null,
   "id": "bfec15e1",
   "metadata": {},
   "outputs": [],
   "source": [
    "weather_df['temp_datetime'][0]"
   ]
  },
  {
   "cell_type": "code",
   "execution_count": null,
   "id": "391d303f",
   "metadata": {},
   "outputs": [],
   "source": [
    "%%time\n",
    "## Creating/testing our time format\n",
    "\n",
    "\n",
    "fmt = '%m/%d/%Y %H:%M'\n",
    "\n",
    "## Test Format\n",
    "weather_df['temp_datetime'] = pd.to_datetime(weather_df['temp_datetime'],\n",
    "                                              format=fmt)"
   ]
  },
  {
   "cell_type": "code",
   "execution_count": null,
   "id": "9e08dc6a",
   "metadata": {},
   "outputs": [],
   "source": [
    "weather_df.info()"
   ]
  },
  {
   "cell_type": "markdown",
   "id": "b76e4b0c",
   "metadata": {},
   "source": [
    "# Set Date as Index"
   ]
  },
  {
   "cell_type": "code",
   "execution_count": null,
   "id": "cb404db4",
   "metadata": {},
   "outputs": [],
   "source": [
    "df_ts = weather_df.set_index('temp_datetime')\n",
    "df_ts.info()"
   ]
  },
  {
   "cell_type": "code",
   "execution_count": null,
   "id": "6212bcfd",
   "metadata": {},
   "outputs": [],
   "source": [
    "df_ts.index"
   ]
  },
  {
   "cell_type": "markdown",
   "id": "ab902789",
   "metadata": {},
   "source": [
    "# Keeping only Year 2000 and higher"
   ]
  },
  {
   "cell_type": "code",
   "execution_count": null,
   "id": "f35ebd7f",
   "metadata": {},
   "outputs": [],
   "source": [
    "plt.rcParams['figure.figsize']"
   ]
  },
  {
   "cell_type": "code",
   "execution_count": null,
   "id": "02963ba5",
   "metadata": {},
   "outputs": [],
   "source": [
    "plt.rcParams['figure.figsize'] = [12,3]"
   ]
  },
  {
   "cell_type": "code",
   "execution_count": null,
   "id": "76b40f94",
   "metadata": {},
   "outputs": [],
   "source": [
    "df_ts.plot();"
   ]
  },
  {
   "cell_type": "code",
   "execution_count": null,
   "id": "cf3c18d1",
   "metadata": {},
   "outputs": [],
   "source": [
    "df_ts.loc['2000']"
   ]
  },
  {
   "cell_type": "code",
   "execution_count": null,
   "id": "0c587b30",
   "metadata": {},
   "outputs": [],
   "source": [
    "df_ts.plot()"
   ]
  },
  {
   "cell_type": "code",
   "execution_count": null,
   "id": "604f8864",
   "metadata": {},
   "outputs": [],
   "source": [
    "df_temp.isna().sum()"
   ]
  },
  {
   "cell_type": "code",
   "execution_count": null,
   "id": "0399e2f4",
   "metadata": {},
   "outputs": [],
   "source": [
    "# Fill with back fill\n",
    "ts_bfill = df_min.fillna(method='bfill')\n",
    "\n",
    "#plot backfilled data\n",
    "ax = ts_bfill.plot(style='.-')\n",
    "ax.axvspan('2020-03-21','2020-03-23',alpha=0.5)\n",
    "ax.set(title='bfill', ylabel=\"Temperature\");"
   ]
  },
  {
   "cell_type": "code",
   "execution_count": null,
   "id": "fa681f65",
   "metadata": {},
   "outputs": [],
   "source": [
    "ts_ffill = df_min.fillna(method='ffill')\n",
    "#plot forward data\n",
    "ax = ts_ffill.plot(style='.-')\n",
    "ax.axvspan('2020-03-21','2020-03-23',alpha=0.5)\n",
    "ax.set(title='bfill', ylabel=\"Temperature\");"
   ]
  },
  {
   "cell_type": "code",
   "execution_count": null,
   "id": "90a53249",
   "metadata": {},
   "outputs": [],
   "source": [
    "# Interpolate missing data\n",
    "ts_interpolate = df_min.interpolate()\n",
    "\n",
    "# Plot interpolated data\n",
    "ax = ts_interpolate.plot(style='.-')\n",
    "ax.axvspan('2020-03-21','2020-03-23',alpha=0.5)\n",
    "ax.set(title='bfill', ylabel=\"Temperature\");"
   ]
  }
 ],
 "metadata": {
  "kernelspec": {
   "display_name": "Python (dojo-env)",
   "language": "python",
   "name": "dojo-env"
  },
  "language_info": {
   "codemirror_mode": {
    "name": "ipython",
    "version": 3
   },
   "file_extension": ".py",
   "mimetype": "text/x-python",
   "name": "python",
   "nbconvert_exporter": "python",
   "pygments_lexer": "ipython3",
   "version": "3.9.15"
  },
  "toc": {
   "base_numbering": 1,
   "nav_menu": {},
   "number_sections": true,
   "sideBar": true,
   "skip_h1_title": false,
   "title_cell": "Table of Contents",
   "title_sidebar": "Contents",
   "toc_cell": false,
   "toc_position": {},
   "toc_section_display": true,
   "toc_window_display": false
  }
 },
 "nbformat": 4,
 "nbformat_minor": 5
}
